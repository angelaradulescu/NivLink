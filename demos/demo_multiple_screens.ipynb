{
 "cells": [
  {
   "cell_type": "markdown",
   "metadata": {},
   "source": [
    "## NivLink Demo: Multiple Screens with Varying AoI Distributions"
   ]
  },
  {
   "cell_type": "code",
   "execution_count": 1,
   "metadata": {},
   "outputs": [],
   "source": [
    "import numpy as np\n",
    "import matplotlib.pyplot as plt\n",
    "import seaborn as sns\n",
    "import scipy.io as io\n",
    "import pandas as pd\n",
    "from pandas import DataFrame, read_csv\n",
    "from nivlink import ScreenInfo\n",
    "from nivlink import epoching_fht, align_to_aoi, compute_fixations\n",
    "\n",
    "sns.set_style('white')\n",
    "sns.set_context('notebook', font_scale=1.5)\n",
    "%matplotlib inline"
   ]
  },
  {
   "cell_type": "markdown",
   "metadata": {},
   "source": [
    "### Multiple screens with non-overlapping rectangular AoIs."
   ]
  },
  {
   "cell_type": "code",
   "execution_count": null,
   "metadata": {
    "collapsed": true,
    "scrolled": true
   },
   "outputs": [],
   "source": [
    "## Define metadata.\n",
    "xdim, ydim, sfreq, n_screens = 1600, 1200, 500, 3 \n",
    "\n",
    "## Initialize ScreenInfo object.\n",
    "info = ScreenInfo(xdim, ydim, sfreq, n_screens)\n",
    "\n",
    "## Define rectangular AoIs.\n",
    "n_aois = 9\n",
    "aois = np.empty((n_aois,2,2))\n",
    "# Left column\n",
    "aois[0] = np.matrix([[425, 325], [575, 475]])\n",
    "aois[1] = np.matrix([[425, 525], [575, 675]])\n",
    "aois[2] = np.matrix([[425, 725], [575, 875]])\n",
    "# Middle column\n",
    "aois[3] = np.matrix([[725, 325], [875, 475]])\n",
    "aois[4] = np.matrix([[725, 525], [875, 675]])\n",
    "aois[5] = np.matrix([[725, 725], [875, 875]])\n",
    "# Right column\n",
    "aois[6] = np.matrix([[1025, 325], [1175, 475]])\n",
    "aois[7] = np.matrix([[1025, 525], [1175, 675]])\n",
    "aois[8] = np.matrix([[1025, 725], [1175, 875]])\n",
    "\n",
    "## Loop over AoIs and add to ScreenInfo object. \n",
    "for a in range(0, n_aois):\n",
    "    # Determine which screen to add AoI to. \n",
    "    if (a+1) < 4: sid = 1\n",
    "    elif ((a+1) > 3) & ((a+1) <= 6): sid = 2\n",
    "    elif (a+1) > 6: sid = 3\n",
    "    info.add_rectangle_aoi(aois[a,0,0], aois[a,1,0], aois[a,0,1], aois[a,1,1], sid)    \n",
    "\n",
    "## Visually inspect AoIs. \n",
    "fig, ax = info.plot_aoi(1,6)\n",
    "fig, ax = info.plot_aoi(2,6)\n",
    "fig, ax = info.plot_aoi(3,6)\n"
   ]
  },
  {
   "cell_type": "markdown",
   "metadata": {
    "collapsed": true
   },
   "source": [
    "### Multiple screens with overlapping ellipsoid AoIs."
   ]
  },
  {
   "cell_type": "code",
   "execution_count": 2,
   "metadata": {},
   "outputs": [
    {
     "ename": "NameError",
     "evalue": "name 'ScreenInfo' is not defined",
     "output_type": "error",
     "traceback": [
      "\u001b[0;31m---------------------------------------------------------------------------\u001b[0m",
      "\u001b[0;31mNameError\u001b[0m                                 Traceback (most recent call last)",
      "\u001b[0;32m<ipython-input-2-7e2e9210f5c0>\u001b[0m in \u001b[0;36m<module>\u001b[0;34m()\u001b[0m\n\u001b[1;32m      3\u001b[0m \u001b[0;34m\u001b[0m\u001b[0m\n\u001b[1;32m      4\u001b[0m \u001b[0;31m## Initialize ScreenInfo object.\u001b[0m\u001b[0;34m\u001b[0m\u001b[0;34m\u001b[0m\u001b[0m\n\u001b[0;32m----> 5\u001b[0;31m \u001b[0minfo\u001b[0m \u001b[0;34m=\u001b[0m \u001b[0mScreenInfo\u001b[0m\u001b[0;34m(\u001b[0m\u001b[0mxdim\u001b[0m\u001b[0;34m,\u001b[0m \u001b[0mydim\u001b[0m\u001b[0;34m,\u001b[0m \u001b[0msfreq\u001b[0m\u001b[0;34m,\u001b[0m \u001b[0mn_screens\u001b[0m\u001b[0;34m)\u001b[0m\u001b[0;34m\u001b[0m\u001b[0m\n\u001b[0m\u001b[1;32m      6\u001b[0m \u001b[0;34m\u001b[0m\u001b[0m\n\u001b[1;32m      7\u001b[0m \u001b[0;31m## Define ellipsoid AoIs.\u001b[0m\u001b[0;34m\u001b[0m\u001b[0;34m\u001b[0m\u001b[0m\n",
      "\u001b[0;31mNameError\u001b[0m: name 'ScreenInfo' is not defined"
     ]
    }
   ],
   "source": [
    "## Define metadata.\n",
    "xdim, ydim, sfreq, n_screens = 1600, 1200, 500, 3 \n",
    "\n",
    "## Initialize ScreenInfo object.\n",
    "info = ScreenInfo(xdim, ydim, sfreq, n_screens)\n",
    "\n",
    "## Define ellipsoid AoIs.\n",
    "aois = np.empty((2,5)) # center x-coord, center y-coord, x-radius, y-radius\n",
    "# Left ellipse\n",
    "aois[0] = [400, 400, 200, 400, np.radians(-135)]\n",
    "# Right ellipse\n",
    "aois[1] = [1200, 400, 200, 400, np.radians(135)]\n",
    "\n",
    "## Add to different screens.\n",
    "# Screen 1: both ellipses\n",
    "info.add_ellipsoid_aoi(aois[0,0], aois[0,1], aois[0,2], aois[0,3], aois[0,4], 1)\n",
    "info.add_ellipsoid_aoi(aois[1,0], aois[1,1], aois[1,2], aois[1,3], aois[1,4], 1)\n",
    "# Screen 2: left ellipse only\n",
    "info.add_ellipsoid_aoi(aois[0,0], aois[0,1], aois[0,2], aois[0,3], aois[0,4], 2)\n",
    "# Screen 3: right ellipse only\n",
    "info.add_ellipsoid_aoi(aois[1,0], aois[1,1], aois[1,2], aois[1,3], aois[1,4], 3)\n",
    "\n",
    "## Visually inspect AoIs. \n",
    "fig, ax = info.plot_aoi(1,6)\n",
    "fig, ax = info.plot_aoi(2,6)\n",
    "fig, ax = info.plot_aoi(3,6)\n"
   ]
  },
  {
   "cell_type": "markdown",
   "metadata": {
    "collapsed": true
   },
   "source": [
    "### Multiple screens with overlapping half-ellipsoid AoIs.\n",
    "Demonstrates use of masking in creating AoIs."
   ]
  },
  {
   "cell_type": "markdown",
   "metadata": {},
   "source": [
    "#### Initialize screen and define base AoIs."
   ]
  },
  {
   "cell_type": "code",
   "execution_count": 8,
   "metadata": {
    "collapsed": true
   },
   "outputs": [],
   "source": [
    "## Define metadata.\n",
    "xdim, ydim, sfreq, n_screens = 1600, 1200, 500, 4 \n",
    "\n",
    "## Initialize ScreenInfo object.\n",
    "info = ScreenInfo(xdim, ydim, sfreq, n_screens)\n",
    "\n",
    "## Define ellipsoid AoIs.\n",
    "aois = np.empty((2,5)) # center x-coord, center y-coord, x-radius, y-radius\n",
    "# Left ellipse\n",
    "aois[0] = [400, 400, 200, 400, np.radians(-135)]\n",
    "# Right ellipse\n",
    "aois[1] = [1200, 400, 200, 400, np.radians(135)]"
   ]
  },
  {
   "cell_type": "markdown",
   "metadata": {},
   "source": [
    "#### Define masks."
   ]
  },
  {
   "cell_type": "code",
   "execution_count": 5,
   "metadata": {
    "collapsed": true
   },
   "outputs": [],
   "source": [
    "# Create screen sized array with unraveled indices.\n",
    "[X,Y] = np.unravel_index(np.arange(xdim * ydim),(xdim, ydim))\n",
    "\n",
    "# np.arange(xdim*ydim) gives the indices of the array we want to unravel if the array were flat. \n",
    "# Here we want all indices in the array. \n",
    "# np.unravel_index asks, what should have been the X and Y indices if we had an array of a particular shape\n",
    "# The point of this is so that we get a pixel representation of the x,y coordinate plane\n",
    "\n",
    "# Make mask that keeps upper half of left ellipse.\n",
    "mask1 = np.reshape(X < Y, (xdim, ydim)).astype(int)\n",
    "\n",
    "# Make mask that keeps lower half of left ellipse.\n",
    "mask2 = np.reshape(X > Y, (xdim, ydim)).astype(int)\n",
    "\n",
    "# Make mask that keeps lower half of right ellipse.\n",
    "mask3 = np.reshape(X < -Y + xdim, (xdim, ydim)).astype(int)\n",
    "\n",
    "# Make mask that keeps upper half of right ellipse.\n",
    "mask4 = np.reshape(X > -Y + xdim, (xdim, ydim)).astype(int)\n",
    "\n"
   ]
  },
  {
   "cell_type": "markdown",
   "metadata": {},
   "source": [
    "#### Add AoIs to different screens."
   ]
  },
  {
   "cell_type": "code",
   "execution_count": 10,
   "metadata": {},
   "outputs": [
    {
     "data": {
      "image/png": "[encoded data removed]",
      "text/plain": [
       "<Figure size 192x144 with 2 Axes>"
      ]
     },
     "metadata": {},
     "output_type": "display_data"
    },
    {
     "data": {
      "image/png": "[encoded data removed]",
      "text/plain": [
       "<Figure size 192x144 with 2 Axes>"
      ]
     },
     "metadata": {},
     "output_type": "display_data"
    },
    {
     "data": {
      "image/png": "[encoded data removed]",
      "text/plain": [
       "<Figure size 192x144 with 2 Axes>"
      ]
     },
     "metadata": {},
     "output_type": "display_data"
    },
    {
     "data": {
      "image/png": "[encoded data removed]",
      "text/plain": [
       "<Figure size 192x144 with 2 Axes>"
      ]
     },
     "metadata": {},
     "output_type": "display_data"
    }
   ],
   "source": [
    "# Screen 1: whole ellipses\n",
    "info.add_ellipsoid_aoi(aois[0,0], aois[0,1], aois[0,2], aois[0,3], aois[0,4], 1)\n",
    "info.add_ellipsoid_aoi(aois[1,0], aois[1,1], aois[1,2], aois[1,3], aois[1,4], 1)\n",
    "\n",
    "# Screen 2: whole left ellipse, halved right ellipse\n",
    "info.add_ellipsoid_aoi(aois[0,0], aois[0,1], aois[0,2], aois[0,3], aois[0,4], 2)\n",
    "info.add_ellipsoid_aoi(aois[1,0], aois[1,1], aois[1,2], aois[1,3], aois[1,4], 2, mask3)\n",
    "info.add_ellipsoid_aoi(aois[1,0], aois[1,1], aois[1,2], aois[1,3], aois[1,4], 2, mask4)\n",
    "\n",
    "# Screen 3: halved left ellipse, whole right ellipse\n",
    "info.add_ellipsoid_aoi(aois[0,0], aois[0,1], aois[0,2], aois[0,3], aois[0,4], 3, mask1)\n",
    "info.add_ellipsoid_aoi(aois[0,0], aois[0,1], aois[0,2], aois[0,3], aois[0,4], 3, mask2)\n",
    "info.add_ellipsoid_aoi(aois[1,0], aois[1,1], aois[1,2], aois[1,3], aois[1,4], 3)\n",
    "\n",
    "# Screen 4: halved left ellipse, halved right ellipse\n",
    "info.add_ellipsoid_aoi(aois[0,0], aois[0,1], aois[0,2], aois[0,3], aois[0,4], 4, mask1)\n",
    "info.add_ellipsoid_aoi(aois[0,0], aois[0,1], aois[0,2], aois[0,3], aois[0,4], 4, mask2)\n",
    "info.add_ellipsoid_aoi(aois[1,0], aois[1,1], aois[1,2], aois[1,3], aois[1,4], 4, mask3)\n",
    "info.add_ellipsoid_aoi(aois[1,0], aois[1,1], aois[1,2], aois[1,3], aois[1,4], 4, mask4)\n"
   ]
  },
  {
   "cell_type": "markdown",
   "metadata": {},
   "source": [
    "#### Visually inspect AoIs. "
   ]
  },
  {
   "cell_type": "code",
   "execution_count": 13,
   "metadata": {},
   "outputs": [
    {
     "data": {
      "image/png": "[encoded data removed]",
      "text/plain": [
       "<Figure size 576x432 with 2 Axes>"
      ]
     },
     "metadata": {},
     "output_type": "display_data"
    },
    {
     "data": {
      "image/png": "[encoded data removed]",
      "text/plain": [
       "<Figure size 576x432 with 2 Axes>"
      ]
     },
     "metadata": {},
     "output_type": "display_data"
    },
    {
     "data": {
      "image/png": "[encoded data removed]",
      "text/plain": [
       "<Figure size 576x432 with 2 Axes>"
      ]
     },
     "metadata": {},
     "output_type": "display_data"
    },
    {
     "data": {
      "image/png": "[encoded data removed]",
      "text/plain": [
       "<Figure size 576x432 with 2 Axes>"
      ]
     },
     "metadata": {},
     "output_type": "display_data"
    }
   ],
   "source": [
    "fig, ax = info.plot_aoi(1,6,)\n",
    "fig, ax = info.plot_aoi(2,6,)\n",
    "fig, ax = info.plot_aoi(3,6,)\n",
    "fig, ax = info.plot_aoi(4,6,)"
   ]
  },
  {
   "cell_type": "code",
   "execution_count": null,
   "metadata": {
    "collapsed": true
   },
   "outputs": [],
   "source": []
  }
 ],
 "metadata": {
  "kernelspec": {
   "display_name": "Python 3",
   "language": "python",
   "name": "python3"
  },
  "language_info": {
   "codemirror_mode": {
    "name": "ipython",
    "version": 3
   },
   "file_extension": ".py",
   "mimetype": "text/x-python",
   "name": "python",
   "nbconvert_exporter": "python",
   "pygments_lexer": "ipython3",
   "version": "3.7.0"
  }
 },
 "nbformat": 4,
 "nbformat_minor": 2
}
