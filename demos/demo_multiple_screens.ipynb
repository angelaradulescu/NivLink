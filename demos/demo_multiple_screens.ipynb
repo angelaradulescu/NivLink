{
 "cells": [
  {
   "cell_type": "markdown",
   "metadata": {},
   "source": [
    "### NivLink Demo: Multiple Screens"
   ]
  },
  {
   "cell_type": "code",
   "execution_count": 1,
   "metadata": {
    "collapsed": true
   },
   "outputs": [],
   "source": [
    "import numpy as np\n",
    "import matplotlib.pyplot as plt\n",
    "import seaborn as sns\n",
    "import scipy.io as io\n",
    "import pandas as pd\n",
    "import matplotlib.pyplot as plt\n",
    "from pandas import DataFrame, read_csv\n",
    "from nivlink import ScreenInfo\n",
    "from nivlink import epoching_fht, align_to_aoi, compute_fixations\n",
    "\n",
    "sns.set_style('white')\n",
    "sns.set_context('notebook', font_scale=1.5)\n",
    "%matplotlib inline"
   ]
  },
  {
   "cell_type": "markdown",
   "metadata": {},
   "source": [
    "#### Load eye-tracking data."
   ]
  },
  {
   "cell_type": "code",
   "execution_count": 2,
   "metadata": {
    "collapsed": true
   },
   "outputs": [],
   "source": [
    "## Load single subject data from text file.\n",
    "et_data_path = 'sample_eyetrack_data.txt'\n",
    "raw_data = pd.read_table(et_data_path);\n",
    "\n",
    "## Filter out columns of interest, convert to array and replace '.' with NaNs.\n",
    "raw_data_lean = raw_data.filter(['SAMPLE_MESSAGE','RIGHT_GAZE_X','RIGHT_GAZE_Y'], axis=1)\n",
    "raw_data_lean = raw_data_lean.replace('.',np.nan)\n",
    "raw_data_array = raw_data_lean.values"
   ]
  },
  {
   "cell_type": "markdown",
   "metadata": {},
   "source": [
    "#### Load behavioral data."
   ]
  },
  {
   "cell_type": "code",
   "execution_count": 3,
   "metadata": {
    "collapsed": true
   },
   "outputs": [],
   "source": [
    "behavior = read_csv('sample_behav_data.csv',index_col=0)"
   ]
  },
  {
   "cell_type": "markdown",
   "metadata": {},
   "source": [
    "#### Load pre-generated events file."
   ]
  },
  {
   "cell_type": "code",
   "execution_count": 4,
   "metadata": {
    "collapsed": true
   },
   "outputs": [],
   "source": [
    "events_file_path = 'sample_events.mat'\n",
    "events_mat = io.loadmat(events_file_path)\n",
    "events = np.array(events_mat[\"events_array\"])"
   ]
  },
  {
   "cell_type": "markdown",
   "metadata": {},
   "source": [
    "#### Load pre-generated feature map file."
   ]
  },
  {
   "cell_type": "code",
   "execution_count": 5,
   "metadata": {
    "collapsed": true
   },
   "outputs": [],
   "source": [
    "featmap_file_path = 'sample_featmap.mat'\n",
    "featmap_mat = io.loadmat(featmap_file_path)\n",
    "featmap = np.array(featmap_mat[\"features_aoi_map\"])"
   ]
  },
  {
   "cell_type": "markdown",
   "metadata": {},
   "source": [
    "#### Multiple screens with non-overlapping AoIs."
   ]
  },
  {
   "cell_type": "code",
   "execution_count": 7,
   "metadata": {},
   "outputs": [
    {
     "data": {
      "image/png": "[encoded data removed]",
      "text/plain": [
       "<Figure size 576x432 with 2 Axes>"
      ]
     },
     "metadata": {},
     "output_type": "display_data"
    },
    {
     "data": {
      "image/png": "[encoded data removed]",
      "text/plain": [
       "<Figure size 576x432 with 2 Axes>"
      ]
     },
     "metadata": {},
     "output_type": "display_data"
    },
    {
     "data": {
      "image/png": "[encoded data removed]",
      "text/plain": [
       "<Figure size 576x432 with 2 Axes>"
      ]
     },
     "metadata": {},
     "output_type": "display_data"
    }
   ],
   "source": [
    "## Define metadata.\n",
    "xdim, ydim, sfreq, n_screens = 1600, 1200, 500, 3 \n",
    "\n",
    "## Initialize ScreenInfo object.\n",
    "info = ScreenInfo(xdim, ydim, sfreq, n_screens)\n",
    "\n",
    "## Define and add AoIs.\n",
    "n_aois = 9\n",
    "aois = np.empty((n_aois,2,2))\n",
    "\n",
    "# Left column\n",
    "aois[0] = np.matrix([[425, 325], [575, 475]])\n",
    "aois[1] = np.matrix([[425, 525], [575, 675]])\n",
    "aois[2] = np.matrix([[425, 725], [575, 875]])\n",
    "\n",
    "# Middle column\n",
    "aois[3] = np.matrix([[725, 325], [875, 475]])\n",
    "aois[4] = np.matrix([[725, 525], [875, 675]])\n",
    "aois[5] = np.matrix([[725, 725], [875, 875]])\n",
    "\n",
    "# Right column\n",
    "aois[6] = np.matrix([[1025, 325], [1175, 475]])\n",
    "aois[7] = np.matrix([[1025, 525], [1175, 675]])\n",
    "aois[8] = np.matrix([[1025, 725], [1175, 875]])\n",
    "\n",
    "# Loop over AoIs and add to ScreenInfo object. \n",
    "for a in range(0, n_aois):\n",
    "    \n",
    "    # Determine which screen to add AoI to. \n",
    "    if (a+1) < 4: sid = 1\n",
    "    elif ((a+1) > 3) & ((a+1) <= 6): sid = 2\n",
    "    elif (a+1) > 6: sid = 3\n",
    "        \n",
    "    info.add_rectangle_aoi(aois[a,0,0], aois[a,1,0], aois[a,0,1], aois[a,1,1], sid)    \n",
    "\n",
    "## Visually inspect AoIs. \n",
    "fig, ax = info.plot_aoi(1,6)\n",
    "fig, ax = info.plot_aoi(2,6)\n",
    "fig, ax = info.plot_aoi(3,6)\n"
   ]
  },
  {
   "cell_type": "code",
   "execution_count": null,
   "metadata": {
    "collapsed": true
   },
   "outputs": [],
   "source": []
  }
 ],
 "metadata": {
  "kernelspec": {
   "display_name": "Python 3",
   "language": "python",
   "name": "python3"
  },
  "language_info": {
   "codemirror_mode": {
    "name": "ipython",
    "version": 3
   },
   "file_extension": ".py",
   "mimetype": "text/x-python",
   "name": "python",
   "nbconvert_exporter": "python",
   "pygments_lexer": "ipython3",
   "version": "3.7.0"
  }
 },
 "nbformat": 4,
 "nbformat_minor": 2
}
