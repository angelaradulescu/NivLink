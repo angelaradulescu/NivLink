{
 "cells": [
  {
   "cell_type": "code",
   "execution_count": 1,
   "metadata": {},
   "outputs": [
    {
     "name": "stderr",
     "output_type": "stream",
     "text": [
      "/Users/szoro/Documents/software/anaconda3.6/lib/python3.5/importlib/_bootstrap.py:222: RuntimeWarning: numpy.dtype size changed, may indicate binary incompatibility. Expected 96, got 88\n",
      "  return f(*args, **kwds)\n",
      "/Users/szoro/Documents/software/anaconda3.6/lib/python3.5/importlib/_bootstrap.py:222: RuntimeWarning: numpy.dtype size changed, may indicate binary incompatibility. Expected 96, got 88\n",
      "  return f(*args, **kwds)\n"
     ]
    }
   ],
   "source": [
    "import numpy as np\n",
    "import matplotlib.pyplot as plt\n",
    "import seaborn as sns\n",
    "from nivlink import ScreenInfo, to_features, compute_fixations\n",
    "sns.set_style('white')\n",
    "sns.set_context('notebook', font_scale=1.5)\n",
    "%matplotlib inline"
   ]
  },
  {
   "cell_type": "markdown",
   "metadata": {},
   "source": [
    "## Extract Sample Data"
   ]
  },
  {
   "cell_type": "code",
   "execution_count": 2,
   "metadata": {},
   "outputs": [
    {
     "name": "stderr",
     "output_type": "stream",
     "text": [
      "/Users/szoro/Documents/software/anaconda3.6/lib/python3.5/importlib/_bootstrap.py:222: RuntimeWarning: numpy.dtype size changed, may indicate binary incompatibility. Expected 96, got 88\n",
      "  return f(*args, **kwds)\n"
     ]
    }
   ],
   "source": [
    "from pandas import DataFrame\n",
    "from loadmat import loadmat\n",
    "\n",
    "## Main loop.\n",
    "for subj in [2,4]:\n",
    "\n",
    "    ## Load matlab data.\n",
    "    mat = loadmat('sample/2.mat')\n",
    "    \n",
    "    ## Preallocate space.\n",
    "    df = DataFrame([], columns=('Run','StimTime'))\n",
    "    \n",
    "    for i, run in enumerate(mat['Data']):\n",
    "\n",
    "        ## Extract stimulus onsets.\n",
    "        stimulus_onsets = run['StimOn']\n",
    "        \n",
    "        ## Append to DataFrame.\n",
    "        df = df.append(DataFrame(np.vstack([np.ones_like(stimulus_onsets) * (i+1), stimulus_onsets]).T, \n",
    "                                 columns=('Run','StimTime')), sort=False)\n",
    "        \n",
    "    ## Add subject info.\n",
    "    df.insert(0,'Subject',subj)\n",
    "    \n",
    "    ## Save.\n",
    "    df.to_csv('sample/%s.csv' %subj, index=False)"
   ]
  },
  {
   "cell_type": "markdown",
   "metadata": {},
   "source": [
    "## Testing Screen Info\n",
    "Tutorial for adding new shapes [maybe](https://nickcharlton.net/posts/drawing-animating-shapes-matplotlib.html)"
   ]
  },
  {
   "cell_type": "code",
   "execution_count": 3,
   "metadata": {},
   "outputs": [
    {
     "data": {
      "image/png": "[encoded data removed]",
      "text/plain": [
       "<Figure size 384x288 with 2 Axes>"
      ]
     },
     "metadata": {},
     "output_type": "display_data"
    }
   ],
   "source": [
    "from itertools import product\n",
    "\n",
    "## Initialize object.\n",
    "info = ScreenInfo(1600,1200,500)\n",
    "\n",
    "## Add AOIs.\n",
    "xpos = [425,725,1025]\n",
    "ypos = [325,525,725]\n",
    "xwidth = ywidth = 150\n",
    "    \n",
    "for i, (ymin, xmin) in enumerate(product(ypos, xpos)):\n",
    "    info.add_rectangle_aoi(i+1, xmin, xmin+xwidth, ymin, ymin+ywidth)\n",
    "\n",
    "## Visualize.\n",
    "info.plot_screen(height=4,ticks=True);"
   ]
  },
  {
   "cell_type": "code",
   "execution_count": 13,
   "metadata": {},
   "outputs": [
    {
     "data": {
      "text/plain": [
       "<matplotlib.collections.LineCollection at 0x10bd2df28>"
      ]
     },
     "execution_count": 13,
     "metadata": {},
     "output_type": "execute_result"
    },
    {
     "data": {
      "image/png": "[encoded data removed]",
      "text/plain": [
       "<Figure size 432x288 with 1 Axes>"
      ]
     },
     "metadata": {},
     "output_type": "display_data"
    }
   ],
   "source": [
    "plt.plot(info.indices[800])\n",
    "plt.vlines(600,0,10)"
   ]
  },
  {
   "cell_type": "markdown",
   "metadata": {},
   "source": [
    "## Epoching"
   ]
  },
  {
   "cell_type": "code",
   "execution_count": null,
   "metadata": {},
   "outputs": [],
   "source": [
    "from pandas import read_csv\n",
    "\n",
    "## Define metadata.\n",
    "n_runs = 6\n",
    "trial_length = 4\n",
    "\n",
    "## Define subject info.\n",
    "behavior = read_csv('sample/2.csv')\n",
    "eyetrack = read_csv('sample/2raw.txt', sep='\\t', usecols=['SAMPLE_MESSAGE','RIGHT_GAZE_X','RIGHT_GAZE_Y'])\n",
    "\n",
    "## Preprocessing.\n",
    "eyetrack[['RIGHT_GAZE_X','RIGHT_GAZE_Y']] = eyetrack[['RIGHT_GAZE_X','RIGHT_GAZE_Y']].replace('.',np.nan).astype(float)\n",
    "\n",
    "## Define times.\n",
    "sfreq = 500\n",
    "times = np.arange(0, eyetrack.shape[0] / sfreq, 1 / sfreq)\n",
    "\n",
    "## Define block starts.\n",
    "template = 'Start of Run%s'\n",
    "block_starts = np.zeros_like(times)\n",
    "block_starts[[(eyetrack.SAMPLE_MESSAGE==template %i).values.argmax() for i in np.arange(n_runs)+1]] = np.arange(n_runs)+1\n",
    "\n",
    "## Modify trial starts by block offsets.\n",
    "for i, offset in enumerate(times[block_starts.nonzero()]):\n",
    "    behavior.loc[behavior.Run==i+1, 'StimTime'] += offset\n",
    "\n",
    "## Epoching.\n",
    "stim_indices = np.array([np.argmax(times > t) for t in behavior.StimTime])\n",
    "\n",
    "epochs = np.array([eyetrack.loc[i:i + sfreq*trial_length, ['RIGHT_GAZE_X','RIGHT_GAZE_Y']].values for i in stim_indices])"
   ]
  },
  {
   "cell_type": "markdown",
   "metadata": {},
   "source": [
    "## Feature Assignment"
   ]
  },
  {
   "cell_type": "code",
   "execution_count": null,
   "metadata": {},
   "outputs": [],
   "source": [
    "%timeit ts_feat = to_features(epochs, info)\n",
    "ts_feat = to_features(epochs, info)"
   ]
  },
  {
   "cell_type": "markdown",
   "metadata": {},
   "source": [
    "## Clustering"
   ]
  },
  {
   "cell_type": "code",
   "execution_count": null,
   "metadata": {},
   "outputs": [],
   "source": [
    "%timeit compute_fixations(ts_feat, info.sfreq, info.features)\n",
    "fixations = compute_fixations(ts_feat, info.sfreq, info.features)"
   ]
  },
  {
   "cell_type": "code",
   "execution_count": null,
   "metadata": {},
   "outputs": [],
   "source": [
    "## Plot summary statistics.\n",
    "fig, axes = plt.subplots(1,2,figsize=(10,4))\n",
    "sns.distplot(fixations.groupby('Trial').Duration.sum(), kde=False, ax=axes[0])\n",
    "sns.distplot(fixations.Duration, kde=False, ax=axes[1])\n",
    "sns.despine()\n",
    "plt.tight_layout()"
   ]
  },
  {
   "cell_type": "code",
   "execution_count": null,
   "metadata": {},
   "outputs": [],
   "source": [
    "plt.hist(fixations.Duration, np.)"
   ]
  },
  {
   "cell_type": "code",
   "execution_count": null,
   "metadata": {},
   "outputs": [],
   "source": [
    "plt.hist(fixations.Duration, np.logspace(-3,0,100))\n",
    "plt.xscale('log')"
   ]
  },
  {
   "cell_type": "code",
   "execution_count": null,
   "metadata": {},
   "outputs": [],
   "source": [
    "fixations"
   ]
  },
  {
   "cell_type": "code",
   "execution_count": null,
   "metadata": {},
   "outputs": [],
   "source": []
  }
 ],
 "metadata": {
  "kernelspec": {
   "display_name": "Python 3",
   "language": "python",
   "name": "python3"
  },
  "language_info": {
   "codemirror_mode": {
    "name": "ipython",
    "version": 3
   },
   "file_extension": ".py",
   "mimetype": "text/x-python",
   "name": "python",
   "nbconvert_exporter": "python",
   "pygments_lexer": "ipython3",
   "version": "3.5.5"
  }
 },
 "nbformat": 4,
 "nbformat_minor": 2
}
