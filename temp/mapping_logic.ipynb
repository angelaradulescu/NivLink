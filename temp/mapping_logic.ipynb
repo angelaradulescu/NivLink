{
 "cells": [
  {
   "cell_type": "markdown",
   "metadata": {},
   "source": [
    "This notebook will work with a MATLAB kernel installed: \n",
    "https://github.com/Calysto/matlab_kernel\n",
    "(it's kind of janky in that the kernel dies often, tips for a better one?)\n",
    "\n",
    "#### Step 1 - rearrange the 9 task Features in the position they were presented on screen\n",
    "\n",
    "Replace the relevant variables, Stimuli and Row_Order, with dummy ones (too lazy to load the full datafile..)"
   ]
  },
  {
   "cell_type": "code",
   "execution_count": null,
   "metadata": {},
   "outputs": [],
   "source": [
    "Stimuli_Trial(:,:,1) = [2 1 3];\n",
    "Stimuli_Trial(:,:,2) = [1 2 3];\n",
    "Stimuli_Trial(:,:,3) = [3 1 2];\n",
    "\n",
    "Stimuli_Trial\n",
    "\n",
    "Row_Order_Trial = [2 1 3];"
   ]
  },
  {
   "cell_type": "markdown",
   "metadata": {},
   "source": [
    "Assuming you have the `eyelinkPreproc.m` file (let me know if not) the relevant lines are: \n",
    "\n",
    "334: do `squeeze` on the Stimuli variable on that trial, which will remove the trial dimension and return a 3x3 array of Dimensions x Features. The way to be sure you got that back is to note that within each Dimension you have one of each Feature. In this variable, the first Fimension (F) is always on row 1, the second (H) is always on row 2 and the third (T) is always on row 3. "
   ]
  },
  {
   "cell_type": "code",
   "execution_count": 2,
   "metadata": {},
   "outputs": [
    {
     "name": "stdout",
     "output_type": "stream",
     "text": [
      "\n",
      "S =\n",
      "\n",
      "     2     1     3\n",
      "     1     2     3\n",
      "     3     1     2\n",
      "\n"
     ]
    }
   ],
   "source": [
    "S = squeeze(Stimuli_Trial)';\n",
    "S"
   ]
  },
  {
   "cell_type": "markdown",
   "metadata": {},
   "source": [
    "335 & 337: map to 1-9 Feature notation. 1-3 are Faces, 4-6 are Houses, 7-9 are Tools. "
   ]
  },
  {
   "cell_type": "code",
   "execution_count": null,
   "metadata": {},
   "outputs": [
    {
     "name": "stderr",
     "output_type": "stream",
     "text": [
      "\u001b[0;31mError using eval\n",
      "Undefined f\u001b[0m"
     ]
    }
   ],
   "source": [
    "hlp = [zeros(1,3); 3*ones(1,3); 6*ones(1,3)];\n",
    "\n",
    "F = S+hlp; \n",
    "F"
   ]
  },
  {
   "cell_type": "markdown",
   "metadata": {},
   "source": [
    "339-341: use Row_Order to remap Dimensions to their correct position. This step will give you back what the subject actually saw on the screen. "
   ]
  },
  {
   "cell_type": "code",
   "execution_count": null,
   "metadata": {
    "collapsed": true
   },
   "outputs": [],
   "source": [
    "Features = NaN(3,3);\n",
    "for i = 1:3           \n",
    "    Features(i,:) = (F(find(Row_Order_Trial == i),:));\n",
    "end\n",
    "\n",
    "Features"
   ]
  },
  {
   "cell_type": "markdown",
   "metadata": {},
   "source": [
    "This says, House1 was on the top left, House2 was in the top center, House3 was in the top right, Face2 was in the center left, and so on. I've found it easier to think about the 1-9 coding, and just remember that 1-3 is Dimension 1, 4-6 is Dimension 2, 7-9 is Dimension 3."
   ]
  },
  {
   "cell_type": "markdown",
   "metadata": {},
   "source": [
    "#### Step 2 - loop through events in each trial and use AOIs to assign each eyetracking event to a task feature\n",
    "\n",
    "This happens in a separate function, `event2stims`, which starts on line 624. There are two AOI styles, row-wise AOI (3 rectangular rows, one per Dimension) and feature-wise AOI (9 rectangular squares, one per Feature). Take a look at lines 681-724 to see how the mapping happens for the feature-wise AOI (don't judge the MATLAB code :). Here, for each event that fell inside the AOIs, we're looping through 9 AOIs and asking whether the location of the eye position during that event fell in that AOI. If so, we use the Features matrix computed above to assign the correct Feature and Dimension to that event. "
   ]
  }
 ],
 "metadata": {
  "kernelspec": {
   "display_name": "Matlab",
   "language": "matlab",
   "name": "matlab"
  },
  "language_info": {
   "codemirror_mode": "octave",
   "file_extension": ".m",
   "help_links": [
    {
     "text": "MetaKernel Magics",
     "url": "https://github.com/calysto/metakernel/blob/master/metakernel/magics/README.md"
    }
   ],
   "mimetype": "text/x-octave",
   "name": "matlab",
   "version": "0.15.1"
  }
 },
 "nbformat": 4,
 "nbformat_minor": 2
}
